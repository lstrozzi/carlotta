{
 "cells": [
  {
   "cell_type": "code",
   "execution_count": null,
   "metadata": {},
   "outputs": [],
   "source": [
    "STR = \"<!START>\"\n",
    "STOP = \"<!STOP>\"\n",
    "\n",
    "matrix = [\n",
    "    [\n",
    "        [STR, 'A', 'B', 'C'],\n",
    "        ['D', 'E', 'F', 'G'],\n",
    "        ['H', 'I', 'J', 'K'],\n",
    "        ['L', 'M', 'N', 'O']\n",
    "    ],\n",
    "    [\n",
    "        ['P', 'Q', 'R', 'S'],\n",
    "        ['T', 'U', 'V', 'X'],\n",
    "        ['Y', 'W', 'Z', '*'],\n",
    "        [',', ';', ':', '-']\n",
    "    ],\n",
    "    [\n",
    "        [' ', 'a', 'b', 'c'],\n",
    "        ['d', 'e', 'f', 'g'],\n",
    "        ['h', 'i', 'j', 'k'],\n",
    "        ['l', 'm', 'n', 'o']\n",
    "    ],\n",
    "    [\n",
    "        ['p', 'q', 'r', 's'],\n",
    "        ['t', 'u', 'v', 'x'],\n",
    "        ['y', 'w', 'z', '+'],\n",
    "        ['.', '!', '?', STOP]\n",
    "    ]\n",
    "]"
   ]
  },
  {
   "cell_type": "code",
   "execution_count": null,
   "metadata": {},
   "outputs": [],
   "source": [
    "reverse_natrix = {}\n",
    "for i in range(0, 3):\n",
    "    for j in range(0, 3):\n",
    "        for k in range(0, 3):\n",
    "            code = i*100 + j * 10 + k\n",
    "            c = matrix[i][j][k]\n",
    "            reverse_matrix[c] = code"
   ]
  }
 ],
 "metadata": {
  "language_info": {
   "name": "python"
  }
 },
 "nbformat": 4,
 "nbformat_minor": 2
}
