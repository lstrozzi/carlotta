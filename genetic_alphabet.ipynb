{
 "cells": [
  {
   "cell_type": "code",
   "execution_count": 6,
   "metadata": {},
   "outputs": [],
   "source": [
    "STR = \"<!START>\"\n",
    "STOP = \"<!STOP>\"\n",
    "\n",
    "matrix = [\n",
    "    [\n",
    "        [STR, 'A', 'B', 'C'],\n",
    "        ['D', 'E', 'F', 'G'],\n",
    "        ['H', 'I', 'J', 'K'],\n",
    "        ['L', 'M', 'N', 'O']\n",
    "    ],\n",
    "    [\n",
    "        ['P', 'Q', 'R', 'S'],\n",
    "        ['T', 'U', 'V', 'X'],\n",
    "        ['Y', 'W', 'Z', '*'],\n",
    "        [',', ';', ':', '-']\n",
    "    ],\n",
    "    [\n",
    "        [' ', 'a', 'b', 'c'],\n",
    "        ['d', 'e', 'f', 'g'],\n",
    "        ['h', 'i', 'j', 'k'],\n",
    "        ['l', 'm', 'n', 'o']\n",
    "    ],\n",
    "    [\n",
    "        ['p', 'q', 'r', 's'],\n",
    "        ['t', 'u', 'v', 'x'],\n",
    "        ['y', 'w', 'z', '+'],\n",
    "        ['.', '!', '?', STOP]\n",
    "    ]\n",
    "]"
   ]
  },
  {
   "cell_type": "code",
   "execution_count": 7,
   "metadata": {},
   "outputs": [],
   "source": [
    "reverse_matrix = {}\n",
    "for i in range(0, 3):\n",
    "    for j in range(0, 3):\n",
    "        for k in range(0, 3):\n",
    "            code = i*100 + j * 10 + k\n",
    "            c = matrix[i][j][k]\n",
    "            reverse_matrix[c] = code\n"
   ]
  },
  {
   "cell_type": "code",
   "execution_count": null,
   "metadata": {},
   "outputs": [
    {
     "name": "stdout",
     "output_type": "stream",
     "text": [
      "Code for a: 201\n",
      "Code for b: 202\n",
      "Code for a: 201\n",
      "Code for A: 001\n",
      "Character  not found in matrix.\n"
     ]
    }
   ],
   "source": [
    "char = None\n",
    "while char != STOP:\n",
    "    char = input('Enter a character: ')\n",
    "    if char in reverse_matrix:\n",
    "        print(f'Code for {char}: {reverse_matrix[char]:03d}')\n",
    "    else:\n",
    "        print(f'Character {char} not found in matrix.')\n",
    "    if char == STOP:\n",
    "        break"
   ]
  }
 ],
 "metadata": {
  "language_info": {
   "name": "python"
  }
 },
 "nbformat": 4,
 "nbformat_minor": 2
}
