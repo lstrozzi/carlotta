{
 "cells": [
  {
   "cell_type": "code",
   "execution_count": null,
   "metadata": {},
   "outputs": [],
   "source": [
    "matrix = [\n",
    "    [\n",
    "        [' ', 'A', 'B', 'C'],\n",
    "        ['D', 'E', 'F', 'G'],\n",
    "        ['H', 'I', 'J', 'K'],\n",
    "        ['L', 'M', 'N', 'O']\n",
    "    ],\n",
    "    [\n",
    "        ['P', 'Q', 'R', 'S'],\n",
    "        ['T', 'U', 'V', 'X'],\n",
    "        ['Y', 'W', 'Z', '.'],\n",
    "        [',', ';', ':', '\"']\n",
    "    ],\n",
    "    [\n",
    "        [' ', 'a', 'b', 'c'],\n",
    "        ['d', 'e', 'f', 'g'],\n",
    "        ['h', 'i', 'j', 'k'],\n",
    "        ['l', 'm', 'n', 'o']\n",
    "    ],\n",
    "    [\n",
    "        ['p', 'q', 'r', 's'],\n",
    "        ['t', 'u', 'v', 'x'],\n",
    "        ['y', 'w', 'z', '.'],\n",
    "        [',', ';', ':', '\"']\n",
    "    ]\n",
    "]"
   ]
  }
 ],
 "metadata": {
  "language_info": {
   "name": "python"
  }
 },
 "nbformat": 4,
 "nbformat_minor": 2
}
